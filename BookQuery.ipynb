{
 "cells": [
  {
   "cell_type": "code",
   "execution_count": 1,
   "id": "bfe89241",
   "metadata": {
    "ExecuteTime": {
     "end_time": "2023-03-14T19:20:52.967512Z",
     "start_time": "2023-03-14T19:20:50.104884Z"
    }
   },
   "outputs": [],
   "source": [
    "from langchain.document_loaders import UnstructuredPDFLoader, OnlinePDFLoader\n",
    "from langchain.text_splitter import RecursiveCharacterTextSplitter"
   ]
  },
  {
   "attachments": {},
   "cell_type": "markdown",
   "id": "fe35d3d5",
   "metadata": {},
   "source": [
    "# Load your data"
   ]
  },
  {
   "cell_type": "code",
   "execution_count": 12,
   "id": "a2f7e27e",
   "metadata": {
    "ExecuteTime": {
     "end_time": "2023-03-14T19:21:00.093088Z",
     "start_time": "2023-03-14T19:21:00.084088Z"
    }
   },
   "outputs": [],
   "source": [
    "loader = UnstructuredPDFLoader(\"pdf-files/multicolunm-code-travail-cmr.pdf\")"
   ]
  },
  {
   "attachments": {},
   "cell_type": "markdown",
   "id": "bd04ddf0",
   "metadata": {},
   "source": [
    "# Tests"
   ]
  },
  {
   "cell_type": "code",
   "execution_count": 5,
   "id": "7e9a50a3",
   "metadata": {
    "ExecuteTime": {
     "end_time": "2023-03-14T19:21:23.286007Z",
     "start_time": "2023-03-14T19:21:23.274010Z"
    },
    "scrolled": true
   },
   "outputs": [
    {
     "data": {
      "text/plain": [
       "['C:\\\\Program Files\\\\Common Files\\\\Oracle\\\\Java\\\\javapath',\n",
       " 'C:\\\\Program Files (x86)\\\\Common Files\\\\Oracle\\\\Java\\\\javapath',\n",
       " 'C:\\\\Program Files (x86)\\\\Intel\\\\iCLS Client\\\\',\n",
       " 'C:\\\\Program Files\\\\Intel\\\\iCLS Client\\\\',\n",
       " 'C:\\\\WINDOWS\\\\system32',\n",
       " 'C:\\\\WINDOWS',\n",
       " 'C:\\\\WINDOWS\\\\System32\\\\Wbem',\n",
       " 'C:\\\\WINDOWS\\\\System32\\\\WindowsPowerShell\\\\v1.0\\\\',\n",
       " 'C:\\\\Program Files (x86)\\\\Intel\\\\Intel(R) Management Engine Components\\\\DAL',\n",
       " 'C:\\\\Program Files\\\\Intel\\\\Intel(R) Management Engine Components\\\\DAL',\n",
       " 'C:\\\\Program Files (x86)\\\\Intel\\\\Intel(R) Management Engine Components\\\\IPT',\n",
       " 'C:\\\\Program Files\\\\Intel\\\\Intel(R) Management Engine Components\\\\IPT',\n",
       " 'C:\\\\WINDOWS\\\\System32\\\\OpenSSH\\\\',\n",
       " 'C:\\\\Program Files\\\\Intel\\\\WiFi\\\\bin\\\\',\n",
       " 'C:\\\\Program Files\\\\Common Files\\\\Intel\\\\WirelessCommon\\\\',\n",
       " 'C:\\\\Program Files\\\\Git\\\\cmd',\n",
       " 'C:\\\\Program Files\\\\Docker\\\\Docker\\\\resources\\\\bin',\n",
       " 'C:\\\\ProgramData\\\\DockerDesktop\\\\version-bin',\n",
       " 'C:\\\\Program Files\\\\Amazon\\\\AWSCLIV2\\\\',\n",
       " 'C:\\\\Program Files\\\\nodejs\\\\',\n",
       " 'C:\\\\php8',\n",
       " 'C:\\\\ProgramData\\\\ComposerSetup\\\\bin',\n",
       " 'C:\\\\Program Files (x86)\\\\Novell\\\\GroupWise',\n",
       " 'C:\\\\Program Files\\\\poppler-0.68.0\\\\bin',\n",
       " 'C:\\\\poppler-0.68.0\\\\bin',\n",
       " 'C:\\\\Users\\\\asus\\\\AppData\\\\Local\\\\Microsoft\\\\WindowsApps',\n",
       " 'C:\\\\Users\\\\asus\\\\AppData\\\\Local\\\\Programs\\\\Microsoft VS Code\\\\bin',\n",
       " 'C:\\\\Users\\\\asus\\\\AppData\\\\Local\\\\GitHubDesktop\\\\bin',\n",
       " 'C:\\\\Users\\\\asus\\\\AppData\\\\Local\\\\Android\\\\Sdk\\\\platform-tools',\n",
       " 'C:\\\\Users\\\\asus\\\\AppData\\\\Local\\\\Programs\\\\Python\\\\Python38\\\\Scripts',\n",
       " 'C:\\\\Users\\\\asus\\\\AppData\\\\Local\\\\Programs\\\\Python\\\\Python38',\n",
       " 'C:\\\\Users\\\\asus\\\\AppData\\\\Roaming\\\\npm',\n",
       " 'C:\\\\Users\\\\asus\\\\AppData\\\\Roaming\\\\Composer\\\\vendor\\\\bin',\n",
       " 'C:\\\\Program Files\\\\poppler-0.68.0\\\\bin',\n",
       " 'C:\\\\poppler-0.68.0\\\\bin',\n",
       " '']"
      ]
     },
     "execution_count": 5,
     "metadata": {},
     "output_type": "execute_result"
    }
   ],
   "source": [
    "import os\n",
    "os.environ[\"PATH\"].split(\";\")"
   ]
  },
  {
   "attachments": {},
   "cell_type": "markdown",
   "id": "88678d39",
   "metadata": {},
   "source": [
    "# Continue"
   ]
  },
  {
   "cell_type": "code",
   "execution_count": 13,
   "id": "4c6ed834",
   "metadata": {
    "ExecuteTime": {
     "end_time": "2023-03-14T19:27:59.651740Z",
     "start_time": "2023-03-14T19:21:28.423031Z"
    }
   },
   "outputs": [],
   "source": [
    "data = loader.load()"
   ]
  },
  {
   "cell_type": "code",
   "execution_count": 7,
   "id": "1842fc59",
   "metadata": {
    "ExecuteTime": {
     "end_time": "2023-03-14T19:29:14.431536Z",
     "start_time": "2023-03-14T19:29:14.422534Z"
    }
   },
   "outputs": [
    {
     "name": "stdout",
     "output_type": "stream",
     "text": [
      "You have 1 document(s) in your data\n",
      "There are 119365 characters in your document\n"
     ]
    }
   ],
   "source": [
    "print (f'You have {len(data)} document(s) in your data')\n",
    "print (f'There are {len(data[0].page_content)} characters in your document')"
   ]
  }
 ],
 "metadata": {
  "kernelspec": {
   "display_name": "Python 3 (ipykernel)",
   "language": "python",
   "name": "python3"
  },
  "language_info": {
   "codemirror_mode": {
    "name": "ipython",
    "version": 3
   },
   "file_extension": ".py",
   "mimetype": "text/x-python",
   "name": "python",
   "nbconvert_exporter": "python",
   "pygments_lexer": "ipython3",
   "version": "3.8.5"
  }
 },
 "nbformat": 4,
 "nbformat_minor": 5
}
