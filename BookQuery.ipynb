{
 "cells": [
  {
   "cell_type": "code",
   "execution_count": 1,
   "id": "bfe89241",
   "metadata": {
    "ExecuteTime": {
     "end_time": "2023-03-14T19:20:52.967512Z",
     "start_time": "2023-03-14T19:20:50.104884Z"
    }
   },
   "outputs": [],
   "source": [
    "from langchain.document_loaders import UnstructuredPDFLoader, OnlinePDFLoader\n",
    "from langchain.text_splitter import RecursiveCharacterTextSplitter"
   ]
  },
  {
   "attachments": {},
   "cell_type": "markdown",
   "id": "fe35d3d5",
   "metadata": {},
   "source": [
    "# Load your data"
   ]
  },
  {
   "cell_type": "code",
   "execution_count": 12,
   "id": "a2f7e27e",
   "metadata": {
    "ExecuteTime": {
     "end_time": "2023-03-14T19:21:00.093088Z",
     "start_time": "2023-03-14T19:21:00.084088Z"
    }
   },
   "outputs": [],
   "source": [
    "loader = UnstructuredPDFLoader(\"pdf-files/multicolunm-code-travail-cmr.pdf\")"
   ]
  },
  {
   "attachments": {},
   "cell_type": "markdown",
   "id": "bd04ddf0",
   "metadata": {},
   "source": [
    "# Tests"
   ]
  },
  {
   "cell_type": "code",
   "execution_count": 4,
   "id": "ad75be24",
   "metadata": {
    "ExecuteTime": {
     "end_time": "2023-03-14T19:21:18.679557Z",
     "start_time": "2023-03-14T19:21:04.628676Z"
    }
   },
   "outputs": [],
   "source": [
    "import pdf2image\n",
    "from pdf2image import convert_from_path\n",
    "pages = convert_from_path(\"pdf-files/multicolunm-code-travail-cmr.pdf\",  poppler_path = r'C:\\poppler-0.68.0\\bin')"
   ]
  },
  {
   "cell_type": "code",
   "execution_count": 5,
   "id": "be42b579",
   "metadata": {
    "ExecuteTime": {
     "end_time": "2023-03-14T19:21:21.343739Z",
     "start_time": "2023-03-14T19:21:21.328214Z"
    }
   },
   "outputs": [
    {
     "data": {
      "text/plain": [
       "31"
      ]
     },
     "execution_count": 5,
     "metadata": {},
     "output_type": "execute_result"
    }
   ],
   "source": [
    "len(pages)"
   ]
  },
  {
   "cell_type": "code",
   "execution_count": 10,
   "id": "30ba81ee",
   "metadata": {},
   "outputs": [],
   "source": [
    "images_from_path = convert_from_path(\"pdf-files/multicolunm-code-travail-cmr.pdf\", output_folder=\"images/\", fmt=\"jpeg\")"
   ]
  },
  {
   "cell_type": "code",
   "execution_count": 5,
   "id": "7e9a50a3",
   "metadata": {
    "ExecuteTime": {
     "end_time": "2023-03-14T19:21:23.286007Z",
     "start_time": "2023-03-14T19:21:23.274010Z"
    },
    "scrolled": true
   },
   "outputs": [
    {
     "data": {
      "text/plain": [
       "['C:\\\\Program Files\\\\Common Files\\\\Oracle\\\\Java\\\\javapath',\n",
       " 'C:\\\\Program Files (x86)\\\\Common Files\\\\Oracle\\\\Java\\\\javapath',\n",
       " 'C:\\\\Program Files (x86)\\\\Intel\\\\iCLS Client\\\\',\n",
       " 'C:\\\\Program Files\\\\Intel\\\\iCLS Client\\\\',\n",
       " 'C:\\\\WINDOWS\\\\system32',\n",
       " 'C:\\\\WINDOWS',\n",
       " 'C:\\\\WINDOWS\\\\System32\\\\Wbem',\n",
       " 'C:\\\\WINDOWS\\\\System32\\\\WindowsPowerShell\\\\v1.0\\\\',\n",
       " 'C:\\\\Program Files (x86)\\\\Intel\\\\Intel(R) Management Engine Components\\\\DAL',\n",
       " 'C:\\\\Program Files\\\\Intel\\\\Intel(R) Management Engine Components\\\\DAL',\n",
       " 'C:\\\\Program Files (x86)\\\\Intel\\\\Intel(R) Management Engine Components\\\\IPT',\n",
       " 'C:\\\\Program Files\\\\Intel\\\\Intel(R) Management Engine Components\\\\IPT',\n",
       " 'C:\\\\WINDOWS\\\\System32\\\\OpenSSH\\\\',\n",
       " 'C:\\\\Program Files\\\\Intel\\\\WiFi\\\\bin\\\\',\n",
       " 'C:\\\\Program Files\\\\Common Files\\\\Intel\\\\WirelessCommon\\\\',\n",
       " 'C:\\\\Program Files\\\\Git\\\\cmd',\n",
       " 'C:\\\\Program Files\\\\Docker\\\\Docker\\\\resources\\\\bin',\n",
       " 'C:\\\\ProgramData\\\\DockerDesktop\\\\version-bin',\n",
       " 'C:\\\\Program Files\\\\Amazon\\\\AWSCLIV2\\\\',\n",
       " 'C:\\\\Program Files\\\\nodejs\\\\',\n",
       " 'C:\\\\php8',\n",
       " 'C:\\\\ProgramData\\\\ComposerSetup\\\\bin',\n",
       " 'C:\\\\Program Files (x86)\\\\Novell\\\\GroupWise',\n",
       " 'C:\\\\Program Files\\\\poppler-0.68.0\\\\bin',\n",
       " 'C:\\\\poppler-0.68.0\\\\bin',\n",
       " 'C:\\\\Users\\\\asus\\\\AppData\\\\Local\\\\Microsoft\\\\WindowsApps',\n",
       " 'C:\\\\Users\\\\asus\\\\AppData\\\\Local\\\\Programs\\\\Microsoft VS Code\\\\bin',\n",
       " 'C:\\\\Users\\\\asus\\\\AppData\\\\Local\\\\GitHubDesktop\\\\bin',\n",
       " 'C:\\\\Users\\\\asus\\\\AppData\\\\Local\\\\Android\\\\Sdk\\\\platform-tools',\n",
       " 'C:\\\\Users\\\\asus\\\\AppData\\\\Local\\\\Programs\\\\Python\\\\Python38\\\\Scripts',\n",
       " 'C:\\\\Users\\\\asus\\\\AppData\\\\Local\\\\Programs\\\\Python\\\\Python38',\n",
       " 'C:\\\\Users\\\\asus\\\\AppData\\\\Roaming\\\\npm',\n",
       " 'C:\\\\Users\\\\asus\\\\AppData\\\\Roaming\\\\Composer\\\\vendor\\\\bin',\n",
       " 'C:\\\\Program Files\\\\poppler-0.68.0\\\\bin',\n",
       " 'C:\\\\poppler-0.68.0\\\\bin',\n",
       " '']"
      ]
     },
     "execution_count": 5,
     "metadata": {},
     "output_type": "execute_result"
    }
   ],
   "source": [
    "import os\n",
    "os.environ[\"PATH\"].split(\";\")"
   ]
  },
  {
   "attachments": {},
   "cell_type": "markdown",
   "id": "88678d39",
   "metadata": {},
   "source": [
    "# Continue"
   ]
  },
  {
   "cell_type": "code",
   "execution_count": 13,
   "id": "4c6ed834",
   "metadata": {
    "ExecuteTime": {
     "end_time": "2023-03-14T19:27:59.651740Z",
     "start_time": "2023-03-14T19:21:28.423031Z"
    }
   },
   "outputs": [],
   "source": [
    "data = loader.load()"
   ]
  },
  {
   "cell_type": "code",
   "execution_count": 7,
   "id": "1842fc59",
   "metadata": {
    "ExecuteTime": {
     "end_time": "2023-03-14T19:29:14.431536Z",
     "start_time": "2023-03-14T19:29:14.422534Z"
    }
   },
   "outputs": [
    {
     "name": "stdout",
     "output_type": "stream",
     "text": [
      "You have 1 document(s) in your data\n",
      "There are 119365 characters in your document\n"
     ]
    }
   ],
   "source": [
    "print (f'You have {len(data)} document(s) in your data')\n",
    "print (f'There are {len(data[0].page_content)} characters in your document')"
   ]
  },
  {
   "cell_type": "code",
   "execution_count": null,
   "id": "a3120f95",
   "metadata": {},
   "outputs": [],
   "source": [
    "file_path = 'ulang-multicolumn-code-travail-cmr.txt'\n",
    "if os.path.exists(file_path):\n",
    "    # Delete the file\n",
    "    os.remove(file_path)\n",
    "with open(file_path, 'w') as file:\n",
    "    # Write the text to the file\n",
    "    file.write(data[0].page_content)"
   ]
  },
  {
   "attachments": {},
   "cell_type": "markdown",
   "id": "263fe7dc",
   "metadata": {},
   "source": [
    "# Chunk your data up into smaller documents"
   ]
  },
  {
   "cell_type": "code",
   "execution_count": 8,
   "id": "0d7a46a6",
   "metadata": {
    "ExecuteTime": {
     "end_time": "2023-03-14T19:29:21.537589Z",
     "start_time": "2023-03-14T19:29:21.525591Z"
    }
   },
   "outputs": [],
   "source": [
    "text_splitter = RecursiveCharacterTextSplitter(chunk_size=1000, chunk_overlap=0)\n",
    "texts = text_splitter.split_documents(data)"
   ]
  },
  {
   "cell_type": "code",
   "execution_count": 9,
   "id": "0944c65d",
   "metadata": {
    "ExecuteTime": {
     "end_time": "2023-03-14T19:29:23.602591Z",
     "start_time": "2023-03-14T19:29:23.595592Z"
    }
   },
   "outputs": [
    {
     "name": "stdout",
     "output_type": "stream",
     "text": [
      "Now you have 136 documents\n"
     ]
    }
   ],
   "source": [
    "print (f'Now you have {len(texts)} documents')"
   ]
  },
  {
   "cell_type": "code",
   "execution_count": 10,
   "id": "b7738aea",
   "metadata": {
    "ExecuteTime": {
     "end_time": "2023-03-14T19:29:25.652597Z",
     "start_time": "2023-03-14T19:29:25.643590Z"
    }
   },
   "outputs": [
    {
     "data": {
      "text/plain": [
       "Document(page_content='Cameroun Code du Travail Loi n°92-007 du 14 août 1992\\n\\nLoi n°92-007 du 14 août 1992', lookup_str='', metadata={'source': 'Cameroun-Code-1992-travail.pdf'}, lookup_index=0)"
      ]
     },
     "execution_count": 10,
     "metadata": {},
     "output_type": "execute_result"
    }
   ],
   "source": [
    "texts[0]"
   ]
  },
  {
   "attachments": {},
   "cell_type": "markdown",
   "id": "e8896e69",
   "metadata": {},
   "source": [
    "# Create embeddings of your documents to get ready for semantic search"
   ]
  },
  {
   "cell_type": "code",
   "execution_count": 11,
   "id": "97efb922",
   "metadata": {
    "ExecuteTime": {
     "end_time": "2023-03-14T19:29:32.529701Z",
     "start_time": "2023-03-14T19:29:29.641591Z"
    }
   },
   "outputs": [],
   "source": [
    "from langchain.vectorstores import Chroma, Pinecone\n",
    "from langchain.embeddings.openai import OpenAIEmbeddings\n",
    "import pinecone"
   ]
  },
  {
   "cell_type": "code",
   "execution_count": 12,
   "id": "b1b34096",
   "metadata": {
    "ExecuteTime": {
     "end_time": "2023-03-14T19:29:35.465711Z",
     "start_time": "2023-03-14T19:29:35.456698Z"
    }
   },
   "outputs": [],
   "source": [
    "OPENAI_API_KEY = open('openai.YEK.IPA.txt').readline().strip()\n",
    "PINECONE_API_KEY = open('pinecone.YEK.IPA.txt').readline().strip()\n",
    "PINECONE_API_ENV = 'us-east-1-aws'"
   ]
  },
  {
   "cell_type": "code",
   "execution_count": 13,
   "id": "e7deb37e",
   "metadata": {
    "ExecuteTime": {
     "end_time": "2023-03-14T19:29:37.120699Z",
     "start_time": "2023-03-14T19:29:37.053699Z"
    }
   },
   "outputs": [],
   "source": [
    "embeddings = OpenAIEmbeddings(openai_api_key=OPENAI_API_KEY)"
   ]
  },
  {
   "cell_type": "code",
   "execution_count": 14,
   "id": "88c8f333",
   "metadata": {
    "ExecuteTime": {
     "end_time": "2023-03-14T19:29:44.122230Z",
     "start_time": "2023-03-14T19:29:43.198232Z"
    }
   },
   "outputs": [],
   "source": [
    "# initialize pinecone\n",
    "pinecone.init(\n",
    "    api_key=PINECONE_API_KEY,  # find at app.pinecone.io\n",
    "    environment=PINECONE_API_ENV  # next to api key in console\n",
    ")\n",
    "index_name = \"langchain2\""
   ]
  },
  {
   "cell_type": "code",
   "execution_count": 15,
   "id": "d99d54fd",
   "metadata": {
    "ExecuteTime": {
     "end_time": "2023-03-14T19:30:42.168438Z",
     "start_time": "2023-03-14T19:29:45.809226Z"
    }
   },
   "outputs": [],
   "source": [
    "docsearch = Pinecone.from_texts([t.page_content for t in texts], embeddings, index_name=index_name)"
   ]
  },
  {
   "attachments": {},
   "cell_type": "markdown",
   "id": "247713ea",
   "metadata": {},
   "source": [
    "# Query those docs to get your answer back"
   ]
  },
  {
   "cell_type": "code",
   "execution_count": 28,
   "id": "6528fdbb",
   "metadata": {
    "ExecuteTime": {
     "end_time": "2023-03-14T20:14:42.975630Z",
     "start_time": "2023-03-14T20:14:42.968622Z"
    }
   },
   "outputs": [],
   "source": [
    "from langchain.callbacks import get_openai_callback\n",
    "def count_tokens(chain, docs, query):\n",
    "    with get_openai_callback() as cb:\n",
    "        result = chain.run(input_documents=docs, question=query)\n",
    "        print(f'Spent a total of {cb.total_tokens} tokens')\n",
    "    return result"
   ]
  },
  {
   "cell_type": "code",
   "execution_count": 29,
   "id": "dd5f4efb",
   "metadata": {
    "ExecuteTime": {
     "end_time": "2023-03-14T20:14:45.345691Z",
     "start_time": "2023-03-14T20:14:45.339688Z"
    }
   },
   "outputs": [],
   "source": [
    "from langchain.llms import OpenAI\n",
    "from langchain.chains.question_answering import load_qa_chain"
   ]
  },
  {
   "cell_type": "code",
   "execution_count": 30,
   "id": "c90abe21",
   "metadata": {
    "ExecuteTime": {
     "end_time": "2023-03-14T20:14:46.497689Z",
     "start_time": "2023-03-14T20:14:46.490688Z"
    }
   },
   "outputs": [],
   "source": [
    "llm = OpenAI(temperature=0, openai_api_key=OPENAI_API_KEY)\n",
    "chain = load_qa_chain(llm, chain_type=\"stuff\", verbose=True)"
   ]
  },
  {
   "cell_type": "code",
   "execution_count": 31,
   "id": "231a8d52",
   "metadata": {
    "ExecuteTime": {
     "end_time": "2023-03-14T20:14:54.414482Z",
     "start_time": "2023-03-14T20:14:48.802749Z"
    }
   },
   "outputs": [
    {
     "name": "stdout",
     "output_type": "stream",
     "text": [
      "\n",
      "\n",
      "\u001b[1m> Entering new StuffDocumentsChain chain...\u001b[0m\n",
      "\n",
      "\n",
      "\u001b[1m> Entering new LLMChain chain...\u001b[0m\n",
      "Prompt after formatting:\n",
      "\u001b[32;1m\u001b[1;3mUse the following pieces of context to answer the question at the end. If you don't know the answer, just say that you don't know, don't try to make up an answer.\n",
      "\n",
      "4) On entend par travail forcé ou obligatoire tout travail ou service, exigé d’un individu sous la me- nace d’une peine quelconque et pour lequel ledit individu ne s’est pas offert de son plein gré.\n",
      "\n",
      "sente loi les personnels régis par :\n",
      "\n",
      "le statut général de la fonction publique ;\n",
      "\n",
      "le statut de la magistrature ;\n",
      "\n",
      "le statut général des militaires ;\n",
      "\n",
      "le statut spécial de la sûreté nationale ;\n",
      "\n",
      "5) Toutefois, le terme « travail forcé ou obliga- toire » ne comprend pas :\n",
      "\n",
      "toire » ne comprend pas :\n",
      "\n",
      "a) tout travail ou service exigé en vertu des lois et règlements sur le service militaire et affecté à des travaux de caractère purement militaire ;\n",
      "\n",
      "b) tout travail ou service d’intérêt général fai\n",
      "\n",
      "sant partie des obligations civiques des ci\n",
      "\n",
      "toyens, telles qu’elles sont définies par les lois et les règlements ; c) tout travail ou service exigé d’un individu comme conséquence d’une condamnation pro\n",
      "\n",
      "4) On entend par travail forcé ou obligatoire tout travail ou service, exigé d’un individu sous la me- nace d’une peine quelconque et pour lequel ledit individu ne s’est pas offert de son plein gré.\n",
      "\n",
      "sente loi les personnels régis par :\n",
      "\n",
      "le statut général de la fonction publique ;\n",
      "\n",
      "le statut de la magistrature ;\n",
      "\n",
      "le statut général des militaires ;\n",
      "\n",
      "le statut spécial de la sûreté nationale ;\n",
      "\n",
      "5) Toutefois, le terme « travail forcé ou obliga- toire » ne comprend pas :\n",
      "\n",
      "toire » ne comprend pas :\n",
      "\n",
      "a) tout travail ou service exigé en vertu des lois et règlements sur le service militaire et affecté à des travaux de caractère purement militaire ;\n",
      "\n",
      "b) tout travail ou service d’intérêt général fai\n",
      "\n",
      "sant partie des obligations civiques des ci\n",
      "\n",
      "toyens, telles qu’elles sont définies par les lois et les règlements ; c) tout travail ou service exigé d’un individu comme conséquence d’une condamnation pro\n",
      "\n",
      "Art.53.- 1) A la demande de l’une des organisa- tions syndicales les plus représentatives ou à l’initiative du ministre chargé du Travail, les dispo- sitions d’une convention collective répondant aux conditions déterminées par voie réglementaire, peuvent être rendues obligatoires pour tous les em- ployeurs et travailleurs compris dans le champ d’application professionnel et territorial de ladite convention, par décret pris après avis motivé de la Commission nationale consultative du travail.\n",
      "\n",
      "2) Cet affichage est obligatoire même si les travaux s’exécutent dans les ateliers, magasins et chantiers de l’entrepreneur.\n",
      "\n",
      "2) L’extension des effets et des sanctions d’une convention collective se fait pour la durée et aux conditions prévues par ladite convention.\n",
      "\n",
      "Art.51.- L’entrepreneur doit tenir à jour la liste des tâcherons avec lesquels il a passé contrat.\n",
      "\n",
      "Art.53.- 1) A la demande de l’une des organisa- tions syndicales les plus représentatives ou à l’initiative du ministre chargé du Travail, les dispo- sitions d’une convention collective répondant aux conditions déterminées par voie réglementaire, peuvent être rendues obligatoires pour tous les em- ployeurs et travailleurs compris dans le champ d’application professionnel et territorial de ladite convention, par décret pris après avis motivé de la Commission nationale consultative du travail.\n",
      "\n",
      "2) Cet affichage est obligatoire même si les travaux s’exécutent dans les ateliers, magasins et chantiers de l’entrepreneur.\n",
      "\n",
      "2) L’extension des effets et des sanctions d’une convention collective se fait pour la durée et aux conditions prévues par ladite convention.\n",
      "\n",
      "Art.51.- L’entrepreneur doit tenir à jour la liste des tâcherons avec lesquels il a passé contrat.\n",
      "\n",
      "Titre 1 - Dispositions générales\n",
      "\n",
      "le statut spécial de l’administration péniten\n",
      "\n",
      "tiaire ; les dispositions particulières applicables aux auxiliaires d’administration.\n",
      "\n",
      "Art.1.- 1) La présente loi régit les rapports de tra- vail entre les travailleurs et les employeurs ainsi qu’entre ces derniers et les apprentis placés sous leur autorité.\n",
      "\n",
      "2) Est considéré comme « travailleur » au sens de la présente loi, quels que soient son sexe et sa na- tionalité, toute personne qui s’est engagée à mettre son activité professionnelle moyennant rémunéra- tion, sous la direction et l’autorité d’une personne physique ou morale, publique ou privée, celle-ci étant considérée comme « employeur ». Pour la détermination de la qualité de travailleur, il ne doit être tenu compte ni du statut juridique de l’em- ployeur, ni de celui de l’employé.\n",
      "\n",
      "3) Le travail forcé ou obligatoire est interdit.\n",
      "\n",
      "Question: Qu'est ce que le travail forcé ou obligatoire ?\n",
      "Helpful Answer:\u001b[0m\n",
      "\n",
      "\u001b[1m> Finished chain.\u001b[0m\n",
      "\n",
      "\u001b[1m> Finished chain.\u001b[0m\n",
      "Spent a total of 1692 tokens\n"
     ]
    },
    {
     "data": {
      "text/plain": [
       "' Le travail forcé ou obligatoire est tout travail ou service exigé d’un individu sous la menace d’une peine quelconque et pour lequel ledit individu ne s’est pas offert de son plein gré.'"
      ]
     },
     "execution_count": 31,
     "metadata": {},
     "output_type": "execute_result"
    }
   ],
   "source": [
    "query = \"Qu'est ce que le travail forcé ou obligatoire ?\"\n",
    "docs = docsearch.similarity_search(query, include_metadata=True)\n",
    "count_tokens(chain, docs, query)"
   ]
  },
  {
   "cell_type": "code",
   "execution_count": 32,
   "id": "20250989",
   "metadata": {
    "ExecuteTime": {
     "end_time": "2023-03-14T20:17:44.932898Z",
     "start_time": "2023-03-14T20:17:39.639890Z"
    }
   },
   "outputs": [
    {
     "name": "stdout",
     "output_type": "stream",
     "text": [
      "\n",
      "\n",
      "\u001b[1m> Entering new StuffDocumentsChain chain...\u001b[0m\n",
      "\n",
      "\n",
      "\u001b[1m> Entering new LLMChain chain...\u001b[0m\n",
      "Prompt after formatting:\n",
      "\u001b[32;1m\u001b[1;3mUse the following pieces of context to answer the question at the end. If you don't know the answer, just say that you don't know, don't try to make up an answer.\n",
      "\n",
      "4) On entend par travail forcé ou obligatoire tout travail ou service, exigé d’un individu sous la me- nace d’une peine quelconque et pour lequel ledit individu ne s’est pas offert de son plein gré.\n",
      "\n",
      "sente loi les personnels régis par :\n",
      "\n",
      "le statut général de la fonction publique ;\n",
      "\n",
      "le statut de la magistrature ;\n",
      "\n",
      "le statut général des militaires ;\n",
      "\n",
      "le statut spécial de la sûreté nationale ;\n",
      "\n",
      "5) Toutefois, le terme « travail forcé ou obliga- toire » ne comprend pas :\n",
      "\n",
      "toire » ne comprend pas :\n",
      "\n",
      "a) tout travail ou service exigé en vertu des lois et règlements sur le service militaire et affecté à des travaux de caractère purement militaire ;\n",
      "\n",
      "b) tout travail ou service d’intérêt général fai\n",
      "\n",
      "sant partie des obligations civiques des ci\n",
      "\n",
      "toyens, telles qu’elles sont définies par les lois et les règlements ; c) tout travail ou service exigé d’un individu comme conséquence d’une condamnation pro\n",
      "\n",
      "4) On entend par travail forcé ou obligatoire tout travail ou service, exigé d’un individu sous la me- nace d’une peine quelconque et pour lequel ledit individu ne s’est pas offert de son plein gré.\n",
      "\n",
      "sente loi les personnels régis par :\n",
      "\n",
      "le statut général de la fonction publique ;\n",
      "\n",
      "le statut de la magistrature ;\n",
      "\n",
      "le statut général des militaires ;\n",
      "\n",
      "le statut spécial de la sûreté nationale ;\n",
      "\n",
      "5) Toutefois, le terme « travail forcé ou obliga- toire » ne comprend pas :\n",
      "\n",
      "toire » ne comprend pas :\n",
      "\n",
      "a) tout travail ou service exigé en vertu des lois et règlements sur le service militaire et affecté à des travaux de caractère purement militaire ;\n",
      "\n",
      "b) tout travail ou service d’intérêt général fai\n",
      "\n",
      "sant partie des obligations civiques des ci\n",
      "\n",
      "toyens, telles qu’elles sont définies par les lois et les règlements ; c) tout travail ou service exigé d’un individu comme conséquence d’une condamnation pro\n",
      "\n",
      "Ils sont habilités à poursuivre directement en jus- tice, devant la juridiction compétente, tous les au- teurs d’infractions aux dispositions de la présente loi et des textes pris pour son application.\n",
      "\n",
      "Art.113.- En vue du plein emploi de la main- d’oeuvre nationale, des décrets pris après avis de la Commission nationale consultative du travail limi- tent l’embauche des travailleurs de nationalité étrangère pour certaines professions ou certains niveaux de qualification professionnelle.\n",
      "\n",
      "Art.110.- 1) Dans les établissements militaires em- ployant de la main-d’oeuvre civile, les attributions des inspecteurs du travail en matière de contrôle de l’application de la législation et de la réglementa- tion du travail peuvent être confiées à des fonction- naires ou officiers spécialement désignés à cet ef- fet, chaque fois que l’intérêt de la défense nationale s’oppose à l’introduction dans ces établissements d’agents étrangers au service.\n",
      "\n",
      "Chapitre 2 - Des moyens de contrôle\n",
      "\n",
      "Ils sont habilités à poursuivre directement en jus- tice, devant la juridiction compétente, tous les au- teurs d’infractions aux dispositions de la présente loi et des textes pris pour son application.\n",
      "\n",
      "Art.113.- En vue du plein emploi de la main- d’oeuvre nationale, des décrets pris après avis de la Commission nationale consultative du travail limi- tent l’embauche des travailleurs de nationalité étrangère pour certaines professions ou certains niveaux de qualification professionnelle.\n",
      "\n",
      "Art.110.- 1) Dans les établissements militaires em- ployant de la main-d’oeuvre civile, les attributions des inspecteurs du travail en matière de contrôle de l’application de la législation et de la réglementa- tion du travail peuvent être confiées à des fonction- naires ou officiers spécialement désignés à cet ef- fet, chaque fois que l’intérêt de la défense nationale s’oppose à l’introduction dans ces établissements d’agents étrangers au service.\n",
      "\n",
      "Chapitre 2 - Des moyens de contrôle\n",
      "\n",
      "2) Un arrêté du ministre chargé du Travail fixe les conditions d’embauche, d’emploi et de contrôle de l’emploi des jeunes gens à bord des navires.\n",
      "\n",
      "Art.84.- 1) Toute femme enceinte dont l’état a fait l’objet d’une constatation médicale peut rompre son contrat sans préavis et sans avoir de ce fait à verser l’indemnité prévue à l’article 36 ci-dessus. Pendant cette période, l’employeur ne peut rompre le contrat de travail de l’intéressée du fait de la grossesse.\n",
      "\n",
      "a) les jeunes gens de moins de dix\n",
      "\n",
      "huit ans ne peuvent, en aucun cas, être employés à bord des navires en qualité de soutiers ou de chauf\n",
      "\n",
      "feurs ;\n",
      "\n",
      "b) lorsque des enfants et des jeunes gens de moins de dix\n",
      "\n",
      "huit ans doivent être embarqués sur des navires comportant un équipage non exclusivement composé de membres d’une même famille, ils doivent être au préalable soumis à une visite médicale attestant leur apti\n",
      "\n",
      "tude à ce travail ; un certificat médical signé par un médecin agrée est établi à cet effet.\n",
      "\n",
      "Question: Est-ce qu'on peut parler de travail forcé chez les militaires ?\n",
      "Helpful Answer:\u001b[0m\n",
      "\n",
      "\u001b[1m> Finished chain.\u001b[0m\n",
      "\n",
      "\u001b[1m> Finished chain.\u001b[0m\n",
      "Spent a total of 1872 tokens\n"
     ]
    },
    {
     "data": {
      "text/plain": [
       "' Non, le terme \"travail forcé ou obligatoire\" ne comprend pas tout travail ou service exigé en vertu des lois et règlements sur le service militaire et affecté à des travaux de caractère purement militaire.'"
      ]
     },
     "execution_count": 32,
     "metadata": {},
     "output_type": "execute_result"
    }
   ],
   "source": [
    "query = \"Est-ce qu'on peut parler de travail forcé chez les militaires ?\"\n",
    "docs = docsearch.similarity_search(query, include_metadata=True)\n",
    "count_tokens(chain, docs, query)"
   ]
  },
  {
   "cell_type": "code",
   "execution_count": 25,
   "id": "e05187e3",
   "metadata": {
    "ExecuteTime": {
     "end_time": "2023-03-14T20:12:51.025471Z",
     "start_time": "2023-03-14T20:12:45.501806Z"
    }
   },
   "outputs": [
    {
     "name": "stdout",
     "output_type": "stream",
     "text": [
      "Spent a total of 1775 tokens\n"
     ]
    },
    {
     "data": {
      "text/plain": [
       "\" Non, vous ne pouvez pas porter plainte à l'état pour des travaux d'intérêt général. Vous pouvez cependant porter plainte à l'entrepreneur responsable des travaux si vous estimez que vous avez été lésé.\""
      ]
     },
     "execution_count": 25,
     "metadata": {},
     "output_type": "execute_result"
    }
   ],
   "source": [
    "query = \"Est-ce que je peux porter plainte à l'état pour des travaux d'intérêt général ?\"\n",
    "docs = docsearch.similarity_search(query, include_metadata=True)\n",
    "count_tokens(chain, docs, query)"
   ]
  },
  {
   "cell_type": "code",
   "execution_count": null,
   "id": "c1ea3995",
   "metadata": {},
   "outputs": [],
   "source": []
  }
 ],
 "metadata": {
  "kernelspec": {
   "display_name": "Python 3 (ipykernel)",
   "language": "python",
   "name": "python3"
  },
  "language_info": {
   "codemirror_mode": {
    "name": "ipython",
    "version": 3
   },
   "file_extension": ".py",
   "mimetype": "text/x-python",
   "name": "python",
   "nbconvert_exporter": "python",
   "pygments_lexer": "ipython3",
   "version": "3.8.5"
  }
 },
 "nbformat": 4,
 "nbformat_minor": 5
}
