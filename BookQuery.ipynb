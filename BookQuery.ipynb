{
 "cells": [
  {
   "cell_type": "code",
   "execution_count": 1,
   "id": "bfe89241",
   "metadata": {
    "ExecuteTime": {
     "end_time": "2023-03-14T19:20:52.967512Z",
     "start_time": "2023-03-14T19:20:50.104884Z"
    }
   },
   "outputs": [],
   "source": [
    "from langchain.document_loaders import UnstructuredPDFLoader, OnlinePDFLoader\n",
    "from langchain.text_splitter import RecursiveCharacterTextSplitter"
   ]
  },
  {
   "attachments": {},
   "cell_type": "markdown",
   "id": "fe35d3d5",
   "metadata": {},
   "source": [
    "# Load your data"
   ]
  },
  {
   "cell_type": "code",
   "execution_count": 12,
   "id": "a2f7e27e",
   "metadata": {
    "ExecuteTime": {
     "end_time": "2023-03-14T19:21:00.093088Z",
     "start_time": "2023-03-14T19:21:00.084088Z"
    }
   },
   "outputs": [],
   "source": [
    "loader = UnstructuredPDFLoader(\"pdf-files/multicolunm-code-travail-cmr.pdf\")"
   ]
  },
  {
   "attachments": {},
   "cell_type": "markdown",
   "id": "bd04ddf0",
   "metadata": {},
   "source": [
    "# Tests"
   ]
  },
  {
   "cell_type": "code",
   "execution_count": 4,
   "id": "ad75be24",
   "metadata": {
    "ExecuteTime": {
     "end_time": "2023-03-14T19:21:18.679557Z",
     "start_time": "2023-03-14T19:21:04.628676Z"
    }
   },
   "outputs": [],
   "source": [
    "import pdf2image\n",
    "from pdf2image import convert_from_path\n",
    "pages = convert_from_path(\"pdf-files/multicolunm-code-travail-cmr.pdf\",  poppler_path = r'C:\\poppler-0.68.0\\bin')"
   ]
  },
  {
   "cell_type": "code",
   "execution_count": 5,
   "id": "be42b579",
   "metadata": {
    "ExecuteTime": {
     "end_time": "2023-03-14T19:21:21.343739Z",
     "start_time": "2023-03-14T19:21:21.328214Z"
    }
   },
   "outputs": [
    {
     "data": {
      "text/plain": [
       "31"
      ]
     },
     "execution_count": 5,
     "metadata": {},
     "output_type": "execute_result"
    }
   ],
   "source": [
    "len(pages)"
   ]
  },
  {
   "cell_type": "code",
   "execution_count": 10,
   "id": "30ba81ee",
   "metadata": {},
   "outputs": [],
   "source": [
    "images_from_path = convert_from_path(\"pdf-files/multicolunm-code-travail-cmr.pdf\", output_folder=\"images/\", fmt=\"jpeg\")"
   ]
  },
  {
   "cell_type": "code",
   "execution_count": 5,
   "id": "7e9a50a3",
   "metadata": {
    "ExecuteTime": {
     "end_time": "2023-03-14T19:21:23.286007Z",
     "start_time": "2023-03-14T19:21:23.274010Z"
    },
    "scrolled": true
   },
   "outputs": [
    {
     "data": {
      "text/plain": [
       "['C:\\\\Program Files\\\\Common Files\\\\Oracle\\\\Java\\\\javapath',\n",
       " 'C:\\\\Program Files (x86)\\\\Common Files\\\\Oracle\\\\Java\\\\javapath',\n",
       " 'C:\\\\Program Files (x86)\\\\Intel\\\\iCLS Client\\\\',\n",
       " 'C:\\\\Program Files\\\\Intel\\\\iCLS Client\\\\',\n",
       " 'C:\\\\WINDOWS\\\\system32',\n",
       " 'C:\\\\WINDOWS',\n",
       " 'C:\\\\WINDOWS\\\\System32\\\\Wbem',\n",
       " 'C:\\\\WINDOWS\\\\System32\\\\WindowsPowerShell\\\\v1.0\\\\',\n",
       " 'C:\\\\Program Files (x86)\\\\Intel\\\\Intel(R) Management Engine Components\\\\DAL',\n",
       " 'C:\\\\Program Files\\\\Intel\\\\Intel(R) Management Engine Components\\\\DAL',\n",
       " 'C:\\\\Program Files (x86)\\\\Intel\\\\Intel(R) Management Engine Components\\\\IPT',\n",
       " 'C:\\\\Program Files\\\\Intel\\\\Intel(R) Management Engine Components\\\\IPT',\n",
       " 'C:\\\\WINDOWS\\\\System32\\\\OpenSSH\\\\',\n",
       " 'C:\\\\Program Files\\\\Intel\\\\WiFi\\\\bin\\\\',\n",
       " 'C:\\\\Program Files\\\\Common Files\\\\Intel\\\\WirelessCommon\\\\',\n",
       " 'C:\\\\Program Files\\\\Git\\\\cmd',\n",
       " 'C:\\\\Program Files\\\\Docker\\\\Docker\\\\resources\\\\bin',\n",
       " 'C:\\\\ProgramData\\\\DockerDesktop\\\\version-bin',\n",
       " 'C:\\\\Program Files\\\\Amazon\\\\AWSCLIV2\\\\',\n",
       " 'C:\\\\Program Files\\\\nodejs\\\\',\n",
       " 'C:\\\\php8',\n",
       " 'C:\\\\ProgramData\\\\ComposerSetup\\\\bin',\n",
       " 'C:\\\\Program Files (x86)\\\\Novell\\\\GroupWise',\n",
       " 'C:\\\\Program Files\\\\poppler-0.68.0\\\\bin',\n",
       " 'C:\\\\poppler-0.68.0\\\\bin',\n",
       " 'C:\\\\Users\\\\asus\\\\AppData\\\\Local\\\\Microsoft\\\\WindowsApps',\n",
       " 'C:\\\\Users\\\\asus\\\\AppData\\\\Local\\\\Programs\\\\Microsoft VS Code\\\\bin',\n",
       " 'C:\\\\Users\\\\asus\\\\AppData\\\\Local\\\\GitHubDesktop\\\\bin',\n",
       " 'C:\\\\Users\\\\asus\\\\AppData\\\\Local\\\\Android\\\\Sdk\\\\platform-tools',\n",
       " 'C:\\\\Users\\\\asus\\\\AppData\\\\Local\\\\Programs\\\\Python\\\\Python38\\\\Scripts',\n",
       " 'C:\\\\Users\\\\asus\\\\AppData\\\\Local\\\\Programs\\\\Python\\\\Python38',\n",
       " 'C:\\\\Users\\\\asus\\\\AppData\\\\Roaming\\\\npm',\n",
       " 'C:\\\\Users\\\\asus\\\\AppData\\\\Roaming\\\\Composer\\\\vendor\\\\bin',\n",
       " 'C:\\\\Program Files\\\\poppler-0.68.0\\\\bin',\n",
       " 'C:\\\\poppler-0.68.0\\\\bin',\n",
       " '']"
      ]
     },
     "execution_count": 5,
     "metadata": {},
     "output_type": "execute_result"
    }
   ],
   "source": [
    "import os\n",
    "os.environ[\"PATH\"].split(\";\")"
   ]
  },
  {
   "attachments": {},
   "cell_type": "markdown",
   "id": "88678d39",
   "metadata": {},
   "source": [
    "# Continue"
   ]
  },
  {
   "cell_type": "code",
   "execution_count": 13,
   "id": "4c6ed834",
   "metadata": {
    "ExecuteTime": {
     "end_time": "2023-03-14T19:27:59.651740Z",
     "start_time": "2023-03-14T19:21:28.423031Z"
    }
   },
   "outputs": [],
   "source": [
    "data = loader.load()"
   ]
  },
  {
   "cell_type": "code",
   "execution_count": 7,
   "id": "1842fc59",
   "metadata": {
    "ExecuteTime": {
     "end_time": "2023-03-14T19:29:14.431536Z",
     "start_time": "2023-03-14T19:29:14.422534Z"
    }
   },
   "outputs": [
    {
     "name": "stdout",
     "output_type": "stream",
     "text": [
      "You have 1 document(s) in your data\n",
      "There are 119365 characters in your document\n"
     ]
    }
   ],
   "source": [
    "print (f'You have {len(data)} document(s) in your data')\n",
    "print (f'There are {len(data[0].page_content)} characters in your document')"
   ]
  },
  {
   "cell_type": "code",
   "execution_count": null,
   "id": "a3120f95",
   "metadata": {},
   "outputs": [],
   "source": [
    "file_path = 'ulang-multicolumn-code-travail-cmr.txt'\n",
    "if os.path.exists(file_path):\n",
    "    # Delete the file\n",
    "    os.remove(file_path)\n",
    "with open(file_path, 'w') as file:\n",
    "    # Write the text to the file\n",
    "    file.write(data[0].page_content)"
   ]
  },
  {
   "attachments": {},
   "cell_type": "markdown",
   "id": "263fe7dc",
   "metadata": {},
   "source": [
    "# Chunk your data up into smaller documents"
   ]
  },
  {
   "cell_type": "code",
   "execution_count": 8,
   "id": "0d7a46a6",
   "metadata": {
    "ExecuteTime": {
     "end_time": "2023-03-14T19:29:21.537589Z",
     "start_time": "2023-03-14T19:29:21.525591Z"
    }
   },
   "outputs": [],
   "source": [
    "text_splitter = RecursiveCharacterTextSplitter(chunk_size=1000, chunk_overlap=0)\n",
    "texts = text_splitter.split_documents(data)"
   ]
  },
  {
   "cell_type": "code",
   "execution_count": 9,
   "id": "0944c65d",
   "metadata": {
    "ExecuteTime": {
     "end_time": "2023-03-14T19:29:23.602591Z",
     "start_time": "2023-03-14T19:29:23.595592Z"
    }
   },
   "outputs": [
    {
     "name": "stdout",
     "output_type": "stream",
     "text": [
      "Now you have 136 documents\n"
     ]
    }
   ],
   "source": [
    "print (f'Now you have {len(texts)} documents')"
   ]
  },
  {
   "cell_type": "code",
   "execution_count": 10,
   "id": "b7738aea",
   "metadata": {
    "ExecuteTime": {
     "end_time": "2023-03-14T19:29:25.652597Z",
     "start_time": "2023-03-14T19:29:25.643590Z"
    }
   },
   "outputs": [
    {
     "data": {
      "text/plain": [
       "Document(page_content='Cameroun Code du Travail Loi n°92-007 du 14 août 1992\\n\\nLoi n°92-007 du 14 août 1992', lookup_str='', metadata={'source': 'Cameroun-Code-1992-travail.pdf'}, lookup_index=0)"
      ]
     },
     "execution_count": 10,
     "metadata": {},
     "output_type": "execute_result"
    }
   ],
   "source": [
    "texts[0]"
   ]
  },
  {
   "attachments": {},
   "cell_type": "markdown",
   "id": "e8896e69",
   "metadata": {},
   "source": [
    "# Create embeddings of your documents to get ready for semantic search"
   ]
  },
  {
   "cell_type": "code",
   "execution_count": 11,
   "id": "97efb922",
   "metadata": {
    "ExecuteTime": {
     "end_time": "2023-03-14T19:29:32.529701Z",
     "start_time": "2023-03-14T19:29:29.641591Z"
    }
   },
   "outputs": [],
   "source": [
    "from langchain.vectorstores import Chroma, Pinecone\n",
    "from langchain.embeddings.openai import OpenAIEmbeddings\n",
    "import pinecone"
   ]
  },
  {
   "cell_type": "code",
   "execution_count": 12,
   "id": "b1b34096",
   "metadata": {
    "ExecuteTime": {
     "end_time": "2023-03-14T19:29:35.465711Z",
     "start_time": "2023-03-14T19:29:35.456698Z"
    }
   },
   "outputs": [],
   "source": [
    "OPENAI_API_KEY = open('openai.YEK.IPA.txt').readline().strip()\n",
    "PINECONE_API_KEY = open('pinecone.YEK.IPA.txt').readline().strip()\n",
    "PINECONE_API_ENV = 'us-east-1-aws'"
   ]
  },
  {
   "cell_type": "code",
   "execution_count": 13,
   "id": "e7deb37e",
   "metadata": {
    "ExecuteTime": {
     "end_time": "2023-03-14T19:29:37.120699Z",
     "start_time": "2023-03-14T19:29:37.053699Z"
    }
   },
   "outputs": [],
   "source": [
    "embeddings = OpenAIEmbeddings(openai_api_key=OPENAI_API_KEY)"
   ]
  },
  {
   "cell_type": "code",
   "execution_count": 14,
   "id": "88c8f333",
   "metadata": {
    "ExecuteTime": {
     "end_time": "2023-03-14T19:29:44.122230Z",
     "start_time": "2023-03-14T19:29:43.198232Z"
    }
   },
   "outputs": [],
   "source": [
    "# initialize pinecone\n",
    "pinecone.init(\n",
    "    api_key=PINECONE_API_KEY,  # find at app.pinecone.io\n",
    "    environment=PINECONE_API_ENV  # next to api key in console\n",
    ")\n",
    "index_name = \"langchain2\""
   ]
  },
  {
   "cell_type": "code",
   "execution_count": 15,
   "id": "d99d54fd",
   "metadata": {
    "ExecuteTime": {
     "end_time": "2023-03-14T19:30:42.168438Z",
     "start_time": "2023-03-14T19:29:45.809226Z"
    }
   },
   "outputs": [],
   "source": [
    "docsearch = Pinecone.from_texts([t.page_content for t in texts], embeddings, index_name=index_name)"
   ]
  }
 ],
 "metadata": {
  "kernelspec": {
   "display_name": "Python 3 (ipykernel)",
   "language": "python",
   "name": "python3"
  },
  "language_info": {
   "codemirror_mode": {
    "name": "ipython",
    "version": 3
   },
   "file_extension": ".py",
   "mimetype": "text/x-python",
   "name": "python",
   "nbconvert_exporter": "python",
   "pygments_lexer": "ipython3",
   "version": "3.8.5"
  }
 },
 "nbformat": 4,
 "nbformat_minor": 5
}
